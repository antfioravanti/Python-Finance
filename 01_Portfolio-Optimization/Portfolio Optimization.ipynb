{
 "cells": [
  {
   "cell_type": "markdown",
   "metadata": {},
   "source": [
    "# Portfolio Optimization\n",
    "The goal is to optimize the portfolio using the Efficient Frontier. Namely, the goal is to select the best portfolio according to some criteria such as maximize return and reduce risk."
   ]
  },
  {
   "cell_type": "code",
   "execution_count": 1,
   "metadata": {},
   "outputs": [],
   "source": [
    "from pandas_datareader import data as web\n",
    "import numpy as np\n",
    "import pandas as pd\n",
    "from datetime import datetime\n",
    "import matplotlib.pyplot as plt"
   ]
  },
  {
   "cell_type": "markdown",
   "metadata": {},
   "source": [
    "## Import Data from yahoo finance"
   ]
  },
  {
   "cell_type": "code",
   "execution_count": 2,
   "metadata": {},
   "outputs": [
    {
     "data": {
      "text/html": [
       "<div>\n",
       "<style scoped>\n",
       "    .dataframe tbody tr th:only-of-type {\n",
       "        vertical-align: middle;\n",
       "    }\n",
       "\n",
       "    .dataframe tbody tr th {\n",
       "        vertical-align: top;\n",
       "    }\n",
       "\n",
       "    .dataframe thead th {\n",
       "        text-align: right;\n",
       "    }\n",
       "</style>\n",
       "<table border=\"1\" class=\"dataframe\">\n",
       "  <thead>\n",
       "    <tr style=\"text-align: right;\">\n",
       "      <th></th>\n",
       "      <th>FB</th>\n",
       "      <th>AMZN</th>\n",
       "      <th>AAPL</th>\n",
       "      <th>MSFT</th>\n",
       "      <th>GOOG</th>\n",
       "    </tr>\n",
       "    <tr>\n",
       "      <th>Date</th>\n",
       "      <th></th>\n",
       "      <th></th>\n",
       "      <th></th>\n",
       "      <th></th>\n",
       "      <th></th>\n",
       "    </tr>\n",
       "  </thead>\n",
       "  <tbody>\n",
       "    <tr>\n",
       "      <th>2013-01-02</th>\n",
       "      <td>28.000000</td>\n",
       "      <td>257.309998</td>\n",
       "      <td>16.985447</td>\n",
       "      <td>23.030151</td>\n",
       "      <td>360.274597</td>\n",
       "    </tr>\n",
       "    <tr>\n",
       "      <th>2013-01-03</th>\n",
       "      <td>27.770000</td>\n",
       "      <td>258.480011</td>\n",
       "      <td>16.771048</td>\n",
       "      <td>22.721628</td>\n",
       "      <td>360.483826</td>\n",
       "    </tr>\n",
       "    <tr>\n",
       "      <th>2013-01-04</th>\n",
       "      <td>28.760000</td>\n",
       "      <td>259.149994</td>\n",
       "      <td>16.303904</td>\n",
       "      <td>22.296383</td>\n",
       "      <td>367.607117</td>\n",
       "    </tr>\n",
       "    <tr>\n",
       "      <th>2013-01-07</th>\n",
       "      <td>29.420000</td>\n",
       "      <td>268.459991</td>\n",
       "      <td>16.207993</td>\n",
       "      <td>22.254692</td>\n",
       "      <td>366.003143</td>\n",
       "    </tr>\n",
       "    <tr>\n",
       "      <th>2013-01-08</th>\n",
       "      <td>29.059999</td>\n",
       "      <td>266.380005</td>\n",
       "      <td>16.251612</td>\n",
       "      <td>22.137953</td>\n",
       "      <td>365.280823</td>\n",
       "    </tr>\n",
       "    <tr>\n",
       "      <th>...</th>\n",
       "      <td>...</td>\n",
       "      <td>...</td>\n",
       "      <td>...</td>\n",
       "      <td>...</td>\n",
       "      <td>...</td>\n",
       "    </tr>\n",
       "    <tr>\n",
       "      <th>2021-10-14</th>\n",
       "      <td>328.529999</td>\n",
       "      <td>3299.860107</td>\n",
       "      <td>143.759995</td>\n",
       "      <td>302.750000</td>\n",
       "      <td>2828.239990</td>\n",
       "    </tr>\n",
       "    <tr>\n",
       "      <th>2021-10-15</th>\n",
       "      <td>324.760010</td>\n",
       "      <td>3409.020020</td>\n",
       "      <td>144.839996</td>\n",
       "      <td>304.209991</td>\n",
       "      <td>2833.500000</td>\n",
       "    </tr>\n",
       "    <tr>\n",
       "      <th>2021-10-18</th>\n",
       "      <td>335.339996</td>\n",
       "      <td>3446.739990</td>\n",
       "      <td>146.550003</td>\n",
       "      <td>307.290009</td>\n",
       "      <td>2859.209961</td>\n",
       "    </tr>\n",
       "    <tr>\n",
       "      <th>2021-10-19</th>\n",
       "      <td>339.989990</td>\n",
       "      <td>3444.149902</td>\n",
       "      <td>148.759995</td>\n",
       "      <td>308.230011</td>\n",
       "      <td>2876.439941</td>\n",
       "    </tr>\n",
       "    <tr>\n",
       "      <th>2021-10-20</th>\n",
       "      <td>340.779999</td>\n",
       "      <td>3415.060059</td>\n",
       "      <td>149.259995</td>\n",
       "      <td>307.410004</td>\n",
       "      <td>2848.300049</td>\n",
       "    </tr>\n",
       "  </tbody>\n",
       "</table>\n",
       "<p>2217 rows × 5 columns</p>\n",
       "</div>"
      ],
      "text/plain": [
       "                    FB         AMZN        AAPL        MSFT         GOOG\n",
       "Date                                                                    \n",
       "2013-01-02   28.000000   257.309998   16.985447   23.030151   360.274597\n",
       "2013-01-03   27.770000   258.480011   16.771048   22.721628   360.483826\n",
       "2013-01-04   28.760000   259.149994   16.303904   22.296383   367.607117\n",
       "2013-01-07   29.420000   268.459991   16.207993   22.254692   366.003143\n",
       "2013-01-08   29.059999   266.380005   16.251612   22.137953   365.280823\n",
       "...                ...          ...         ...         ...          ...\n",
       "2021-10-14  328.529999  3299.860107  143.759995  302.750000  2828.239990\n",
       "2021-10-15  324.760010  3409.020020  144.839996  304.209991  2833.500000\n",
       "2021-10-18  335.339996  3446.739990  146.550003  307.290009  2859.209961\n",
       "2021-10-19  339.989990  3444.149902  148.759995  308.230011  2876.439941\n",
       "2021-10-20  340.779999  3415.060059  149.259995  307.410004  2848.300049\n",
       "\n",
       "[2217 rows x 5 columns]"
      ]
     },
     "execution_count": 2,
     "metadata": {},
     "output_type": "execute_result"
    }
   ],
   "source": [
    "#Get the stock simbols / tickers for the portfolio\n",
    "assets = [\"FB\", \"AMZN\", \"AAPL\", \"MSFT\", \"GOOG\"]\n",
    "#Get the portfolio starting date and ending date\n",
    "stockStartDate = \"2013-01-01\"\n",
    "stockEndDate = datetime.today().strftime(\"%Y-%m-%d\")\n",
    "#Create a Dataframe object to store the adjusted closed price of the stocks\n",
    "df = pd.DataFrame()\n",
    "\n",
    "#Store the adjusted close price of the stock into the df\n",
    "for stock in assets:\n",
    "    df[stock] = web.DataReader(stock, data_source='yahoo', start = stockStartDate, end = stockEndDate)['Adj Close']\n",
    "\n",
    "df"
   ]
  },
  {
   "cell_type": "markdown",
   "metadata": {},
   "source": [
    "## Data Visualization"
   ]
  },
  {
   "cell_type": "code",
   "execution_count": 3,
   "metadata": {},
   "outputs": [
    {
     "data": {
      "image/png": "[encoded data removed]",
      "text/plain": [
       "<Figure size 432x288 with 1 Axes>"
      ]
     },
     "metadata": {
      "needs_background": "light"
     },
     "output_type": "display_data"
    }
   ],
   "source": [
    "#Plot a graph\n",
    "for i in df.columns.values:\n",
    "    plt.plot(df[i], label = i)\n",
    "\n",
    "plt.title(\"Portfolio Adj. Close Price\")\n",
    "plt.xlabel('Date', fontsize = 18)\n",
    "plt.ylabel('Adj. Close Price')\n",
    "plt.legend(df.columns.values, loc = 'upper left')\n",
    "plt.show()"
   ]
  },
  {
   "cell_type": "markdown",
   "metadata": {},
   "source": [
    "## Initial Portfolio\n",
    "Here the variance of the portfolio is calculated: <br>\n",
    "$ \\sigma_p^2 = \\textbf{W}^T \\textbf{VW} = \\sqrt{(w_i^2\\sigma_i^2) + (w_j^2\\sigma_j^2) + 2(w_iw_j\\sigma_i \\rho_{i,j}\\sigma_j)}$ <br>\n",
    "with W being the weights vector and V being the annualized variance covariance matrix "
   ]
  },
  {
   "cell_type": "code",
   "execution_count": 4,
   "metadata": {},
   "outputs": [
    {
     "name": "stdout",
     "output_type": "stream",
     "text": [
      "\n",
      "================================================================================\n",
      "Portfolio Weights\n",
      "--------------------------------------------------------------------------------\n",
      "   weights\n",
      "0      0.2\n",
      "1      0.2\n",
      "2      0.2\n",
      "3      0.2\n",
      "4      0.2\n",
      "--------------------------------------------------------------------------------\n",
      "\n",
      "================================================================================\n",
      "Portfolio Metrics\n",
      "--------------------------------------------------------------------------------\n",
      "   Expected Portfolio Returns  Portfolio Volatility  Portfolio Sharpe Ratio\n",
      "0                    0.271037              0.228849                1.184351\n",
      "--------------------------------------------------------------------------------\n"
     ]
    }
   ],
   "source": [
    "#Risk free rate\n",
    "rf = 0\n",
    "# Log Returns\n",
    "log_return = np.log(1 + df.pct_change())\n",
    "\n",
    "# Assign initial equal weights to the stocks\n",
    "n = len(assets)\n",
    "weights = np.empty(n); weights.fill(1/n)\n",
    "\n",
    "# Expected Returns Annualized (252 business days)\n",
    "exp_ret = np.sum((log_return.mean() * weights) * 252)\n",
    "\n",
    "# Annualized Covariance Matrix\n",
    "log_ret_cov_M = log_return.cov() * 252\n",
    "\n",
    "# Portfolio variance annualized\n",
    "port_variance = np.dot(weights.T, np.dot(log_ret_cov_M, weights))\n",
    "\n",
    "# Portfolio Volatility\n",
    "port_vol = np.sqrt(port_variance)\n",
    "\n",
    "# Sharpe Ratio\n",
    "sharpe_ratio = (exp_ret - rf) / port_vol\n",
    "\n",
    "\n",
    "#Put all into Dataframes\n",
    "\n",
    "weights_df = pd.DataFrame(data = {\n",
    "    'weights' : weights\n",
    "    })\n",
    "print('')\n",
    "print(\"=\"*80)\n",
    "print('Portfolio Weights')\n",
    "print('-'*80)\n",
    "print(weights_df)\n",
    "print('-'*80)\n",
    "\n",
    "metrics_df = pd.DataFrame(data = {\n",
    "    'Expected Portfolio Returns': exp_ret,\n",
    "    'Portfolio Volatility': port_vol,\n",
    "    'Portfolio Sharpe Ratio': sharpe_ratio\n",
    "}, index = [0])\n",
    "print('')\n",
    "print(\"=\"*80)\n",
    "print('Portfolio Metrics')\n",
    "print('-'*80)\n",
    "print(metrics_df)\n",
    "print('-'*80)"
   ]
  },
  {
   "cell_type": "markdown",
   "metadata": {},
   "source": []
  },
  {
   "cell_type": "markdown",
   "metadata": {},
   "source": [
    "## Optimization\n",
    "\n",
    "Now we want to optimize the portfolio to get a better return with lower risk. <br>\n",
    "First, the **Sharpe ratio** is used, in order to measure the risk adjusted return: <br>\n",
    "<br>\n",
    "$Sharpe Ratio = \\frac{R_p-R_f}{\\sigma_p}$ <br>\n",
    "with: <br>\n",
    "$R_p$ Return of portfolio<br>\n",
    "$R_f$ Risk free rate<br>\n",
    "$\\sigma_p$ Standard Deviation of portfolio Excess Return<br>\n",
    "<br>\n",
    "In this case we see the return above the risk free rate, normalized by the risk."
   ]
  },
  {
   "cell_type": "code",
   "execution_count": 5,
   "metadata": {},
   "outputs": [],
   "source": [
    "import scipy.optimize as sci"
   ]
  },
  {
   "cell_type": "markdown",
   "metadata": {},
   "source": [
    "Defining the function to be minimized"
   ]
  },
  {
   "cell_type": "code",
   "execution_count": 6,
   "metadata": {},
   "outputs": [],
   "source": [
    "def negative_sharpe(weights: list) -> np.array:\n",
    "    #Convert to numpy array\n",
    "    weights = np.array(weights)\n",
    "    \n",
    "    # Expected Returns Annualized (252 business days)\n",
    "    exp_ret = np.sum((log_return.mean() * weights) * 252)\n",
    "\n",
    "    # Annualized Covariance Matrix\n",
    "    log_ret_cov_M = log_return.cov() * 252\n",
    "\n",
    "    # Portfolio variance annualized\n",
    "    port_variance = np.dot(weights.T, np.dot(log_ret_cov_M, weights))\n",
    "\n",
    "    # Portfolio Volatility\n",
    "    port_vol = np.sqrt(port_variance)\n",
    "\n",
    "    # Sharpe Ratio\n",
    "    sharpe_ratio = (exp_ret - rf) / port_vol\n",
    "\n",
    "    return -sharpe_ratio\n",
    "\n",
    "def check_sum(weights: list) -> float:\n",
    "    return np.sum(weights) - 1"
   ]
  },
  {
   "cell_type": "code",
   "execution_count": 23,
   "metadata": {},
   "outputs": [
    {
     "name": "stdout",
     "output_type": "stream",
     "text": [
      "\n",
      "================================================================================\n",
      "Optimized Portfolio\n",
      "--------------------------------------------------------------------------------\n",
      "     fun: -1.2297831005711155\n",
      "     jac: array([ 5.62667847e-05, -1.00478530e-04, -9.83476639e-05,  5.81294298e-05,\n",
      "       -2.37226486e-05])\n",
      " message: 'Optimization terminated successfully'\n",
      "    nfev: 36\n",
      "     nit: 6\n",
      "    njev: 6\n",
      "  status: 0\n",
      " success: True\n",
      "       x: array([0.11420965, 0.24706747, 0.11595025, 0.51551539, 0.00725724])\n",
      "--------------------------------------------------------------------------------\n"
     ]
    }
   ],
   "source": [
    "# Define the bounds of the optimization process.\n",
    "bounds = tuple((0,1) for i in range(n))\n",
    "\n",
    "# Define the constraints make sure that the weights do not exceed 100%\n",
    "constraints = ({'type': 'eq', 'fun': check_sum})\n",
    "\n",
    "# Perform the optimization process\n",
    "optimized_sharpe = sci.minimize(\n",
    "    fun = negative_sharpe, #the function to minimize\n",
    "    x0 = weights, #the starting values\n",
    "    method = 'SLSQP',\n",
    "    bounds = bounds,\n",
    "    constraints = constraints\n",
    ")\n",
    "print('')\n",
    "print(\"=\"*80)\n",
    "print('Optimized Portfolio')\n",
    "print('-'*80)\n",
    "print(optimized_sharpe)\n",
    "print('-'*80)"
   ]
  },
  {
   "cell_type": "code",
   "execution_count": 24,
   "metadata": {},
   "outputs": [
    {
     "data": {
      "text/html": [
       "<div>\n",
       "<style scoped>\n",
       "    .dataframe tbody tr th:only-of-type {\n",
       "        vertical-align: middle;\n",
       "    }\n",
       "\n",
       "    .dataframe tbody tr th {\n",
       "        vertical-align: top;\n",
       "    }\n",
       "\n",
       "    .dataframe thead th {\n",
       "        text-align: right;\n",
       "    }\n",
       "</style>\n",
       "<table border=\"1\" class=\"dataframe\">\n",
       "  <thead>\n",
       "    <tr style=\"text-align: right;\">\n",
       "      <th></th>\n",
       "      <th>FB</th>\n",
       "      <th>AMZN</th>\n",
       "      <th>AAPL</th>\n",
       "      <th>MSFT</th>\n",
       "      <th>GOOG</th>\n",
       "    </tr>\n",
       "  </thead>\n",
       "  <tbody>\n",
       "    <tr>\n",
       "      <th>0</th>\n",
       "      <td>0.11421</td>\n",
       "      <td>0.247067</td>\n",
       "      <td>0.11595</td>\n",
       "      <td>0.515515</td>\n",
       "      <td>0.007257</td>\n",
       "    </tr>\n",
       "  </tbody>\n",
       "</table>\n",
       "</div>"
      ],
      "text/plain": [
       "        FB      AMZN     AAPL      MSFT      GOOG\n",
       "0  0.11421  0.247067  0.11595  0.515515  0.007257"
      ]
     },
     "execution_count": 24,
     "metadata": {},
     "output_type": "execute_result"
    }
   ],
   "source": [
    "w = np.array(optimized_sharpe.x)\n",
    "w = np.expand_dims(w, axis=0)\n",
    "final_weights = pd.DataFrame(w, columns=df.columns.values)\n",
    "final_weights"
   ]
  }
 ],
 "metadata": {
  "kernelspec": {
   "display_name": "Python 3",
   "language": "python",
   "name": "python3"
  },
  "language_info": {
   "codemirror_mode": {
    "name": "ipython",
    "version": 3
   },
   "file_extension": ".py",
   "mimetype": "text/x-python",
   "name": "python",
   "nbconvert_exporter": "python",
   "pygments_lexer": "ipython3",
   "version": "3.8.5"
  }
 },
 "nbformat": 4,
 "nbformat_minor": 1
}
